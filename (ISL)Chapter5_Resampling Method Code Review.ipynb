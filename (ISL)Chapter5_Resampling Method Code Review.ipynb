{
 "cells": [
  {
   "cell_type": "markdown",
   "metadata": {},
   "source": [
    "# Ch5_Resampling Methods Review"
   ]
  },
  {
   "cell_type": "markdown",
   "metadata": {},
   "source": [
    "https://github.com/emredjan/ISL-python"
   ]
  },
  {
   "cell_type": "markdown",
   "metadata": {},
   "source": [
    "## 5.3.1 The Validation Set Approach"
   ]
  },
  {
   "cell_type": "code",
   "execution_count": 1,
   "metadata": {
    "ExecuteTime": {
     "end_time": "2017-07-25T17:58:38.419468Z",
     "start_time": "2017-07-25T17:58:34.854224Z"
    }
   },
   "outputs": [],
   "source": [
    "# imports and setup\n",
    "import numpy as np\n",
    "import pandas as pd\n",
    "\n",
    "pd.set_option('max_columns', 300)\n",
    "pd.set_option('precision', 2) # number precision for pandas\n",
    "pd.set_option('display.float_format', '{:20,.2f}'.format) # get rid of scientific notation"
   ]
  },
  {
   "cell_type": "code",
   "execution_count": 2,
   "metadata": {
    "scrolled": false
   },
   "outputs": [
    {
     "data": {
      "text/html": [
       "<div>\n",
       "<style scoped>\n",
       "    .dataframe tbody tr th:only-of-type {\n",
       "        vertical-align: middle;\n",
       "    }\n",
       "\n",
       "    .dataframe tbody tr th {\n",
       "        vertical-align: top;\n",
       "    }\n",
       "\n",
       "    .dataframe thead th {\n",
       "        text-align: right;\n",
       "    }\n",
       "</style>\n",
       "<table border=\"1\" class=\"dataframe\">\n",
       "  <thead>\n",
       "    <tr style=\"text-align: right;\">\n",
       "      <th></th>\n",
       "      <th>mpg</th>\n",
       "      <th>cylinders</th>\n",
       "      <th>displacement</th>\n",
       "      <th>horsepower</th>\n",
       "      <th>weight</th>\n",
       "      <th>acceleration</th>\n",
       "      <th>year</th>\n",
       "      <th>origin</th>\n",
       "      <th>name</th>\n",
       "    </tr>\n",
       "  </thead>\n",
       "  <tbody>\n",
       "    <tr>\n",
       "      <th>0</th>\n",
       "      <td>18.00</td>\n",
       "      <td>8</td>\n",
       "      <td>307.00</td>\n",
       "      <td>130.00</td>\n",
       "      <td>3504</td>\n",
       "      <td>12.00</td>\n",
       "      <td>70</td>\n",
       "      <td>1</td>\n",
       "      <td>chevrolet chevelle malibu</td>\n",
       "    </tr>\n",
       "    <tr>\n",
       "      <th>1</th>\n",
       "      <td>15.00</td>\n",
       "      <td>8</td>\n",
       "      <td>350.00</td>\n",
       "      <td>165.00</td>\n",
       "      <td>3693</td>\n",
       "      <td>11.50</td>\n",
       "      <td>70</td>\n",
       "      <td>1</td>\n",
       "      <td>buick skylark 320</td>\n",
       "    </tr>\n",
       "    <tr>\n",
       "      <th>2</th>\n",
       "      <td>18.00</td>\n",
       "      <td>8</td>\n",
       "      <td>318.00</td>\n",
       "      <td>150.00</td>\n",
       "      <td>3436</td>\n",
       "      <td>11.00</td>\n",
       "      <td>70</td>\n",
       "      <td>1</td>\n",
       "      <td>plymouth satellite</td>\n",
       "    </tr>\n",
       "    <tr>\n",
       "      <th>3</th>\n",
       "      <td>16.00</td>\n",
       "      <td>8</td>\n",
       "      <td>304.00</td>\n",
       "      <td>150.00</td>\n",
       "      <td>3433</td>\n",
       "      <td>12.00</td>\n",
       "      <td>70</td>\n",
       "      <td>1</td>\n",
       "      <td>amc rebel sst</td>\n",
       "    </tr>\n",
       "    <tr>\n",
       "      <th>4</th>\n",
       "      <td>17.00</td>\n",
       "      <td>8</td>\n",
       "      <td>302.00</td>\n",
       "      <td>140.00</td>\n",
       "      <td>3449</td>\n",
       "      <td>10.50</td>\n",
       "      <td>70</td>\n",
       "      <td>1</td>\n",
       "      <td>ford torino</td>\n",
       "    </tr>\n",
       "  </tbody>\n",
       "</table>\n",
       "</div>"
      ],
      "text/plain": [
       "                   mpg  cylinders         displacement           horsepower  \\\n",
       "0                18.00          8               307.00               130.00   \n",
       "1                15.00          8               350.00               165.00   \n",
       "2                18.00          8               318.00               150.00   \n",
       "3                16.00          8               304.00               150.00   \n",
       "4                17.00          8               302.00               140.00   \n",
       "\n",
       "   weight         acceleration  year  origin                       name  \n",
       "0    3504                12.00    70       1  chevrolet chevelle malibu  \n",
       "1    3693                11.50    70       1          buick skylark 320  \n",
       "2    3436                11.00    70       1         plymouth satellite  \n",
       "3    3433                12.00    70       1              amc rebel sst  \n",
       "4    3449                10.50    70       1                ford torino  "
      ]
     },
     "execution_count": 2,
     "metadata": {},
     "output_type": "execute_result"
    }
   ],
   "source": [
    "#load data, Github Data를 바로 불러올 수 있습니다. n_values는 null값을 채울 수 있는 parameter입니다. keep_default_na와 함께 사용됩니다.\n",
    "auto = pd.read_csv('https://raw.githubusercontent.com/emredjan/ISL-python/master/datasets/Auto.csv', na_values=['?'])\n",
    "auto.head()"
   ]
  },
  {
   "cell_type": "code",
   "execution_count": 3,
   "metadata": {
    "ExecuteTime": {
     "end_time": "2017-07-25T17:58:22.377861Z",
     "start_time": "2017-07-25T17:58:22.297862Z"
    }
   },
   "outputs": [],
   "source": [
    "# 편의성을 위해 결측치 제거\n",
    "auto.dropna(axis=0, inplace=True)\n",
    "\n",
    "# Categorical Data 지정\n",
    "auto.cylinders = auto.cylinders.astype('category')\n",
    "auto.name = auto.name.astype('category')\n",
    "\n",
    "# Index Column을 일반 자료열로 반환\n",
    "auto.reset_index(inplace=True)\n",
    "\n",
    "#Polynomial Feature 생성\n",
    "auto['horsepower_2'] = np.power(auto.horsepower, 2)\n",
    "auto['horsepower_3'] = np.power(auto.horsepower, 3)\n",
    "auto['horsepower_4'] = np.power(auto.horsepower, 4)\n",
    "auto['horsepower_5'] = np.power(auto.horsepower, 5)\n",
    "\n",
    "# Polynomial Features using sklearn:\n",
    "from sklearn.preprocessing import PolynomialFeatures\n",
    "pol = PolynomialFeatures(degree=5, interaction_only=False, include_bias=False)\n",
    "polf = pol.fit_transform(auto.loc[:, 'horsepower'].values.reshape(-1, 1))"
   ]
  },
  {
   "cell_type": "markdown",
   "metadata": {},
   "source": [
    "Validation set Approach는 sklearn.model_selection의 <strong>train_test_split</strong>을 이용합니다. <br>\n",
    "아래의 <strong>X_test, y_test</strong>는 이름만 test일 뿐 Validation Set이라고 이해하면 될 것 같습니다.<br><br>\n",
    "\n",
    "horsepower의 1차, 2차, 3차를 독립변수로, mpg를 종속변수로 사용합니다"
   ]
  },
  {
   "cell_type": "code",
   "execution_count": 4,
   "metadata": {},
   "outputs": [],
   "source": [
    "from sklearn.model_selection import train_test_split\n",
    "\n",
    "X, y = auto.loc[:, ['horsepower', 'horsepower_2', 'horsepower_3']], auto.mpg\n",
    "X_train, X_test, y_train, y_test = train_test_split(X, y, test_size=0.5, random_state=42)"
   ]
  },
  {
   "cell_type": "code",
   "execution_count": 5,
   "metadata": {},
   "outputs": [
    {
     "name": "stdout",
     "output_type": "stream",
     "text": [
      "lm1 MSE: 25.5738781896844\n",
      "lm2 MSE: 22.218020050032862\n",
      "lm3 MSE: 22.66767543553449\n"
     ]
    }
   ],
   "source": [
    "from sklearn.linear_model import LinearRegression\n",
    "from sklearn.metrics import mean_squared_error\n",
    "\n",
    "# ols model with intercept. fit_intercept parameter는 모델에 상수항을 넣을지 말지 결정합니다.\n",
    "lm1 = LinearRegression(fit_intercept=True)\n",
    "lm2 = LinearRegression(fit_intercept=True)\n",
    "lm3 = LinearRegression(fit_intercept=True)\n",
    "\n",
    "lm1_fit = lm1.fit(X_train.loc[:, 'horsepower'].values.reshape(-1, 1), y_train)\n",
    "lm2_fit = lm2.fit(X_train.loc[:, ['horsepower', 'horsepower_2']], y_train)\n",
    "lm3_fit = lm3.fit(X_train.loc[:, ['horsepower', 'horsepower_2', 'horsepower_3']], y_train)\n",
    "\n",
    "lm1_predict = lm1_fit.predict(X_test.loc[:, 'horsepower'].values.reshape(-1, 1))\n",
    "lm2_predict = lm2_fit.predict(X_test.loc[:, ['horsepower', 'horsepower_2']])\n",
    "lm3_predict = lm3_fit.predict(X_test.loc[:, ['horsepower', 'horsepower_2', 'horsepower_3']])\n",
    "\n",
    "print('lm1 MSE:', mean_squared_error(y_test, lm1_predict))\n",
    "print('lm2 MSE:', mean_squared_error(y_test, lm2_predict))\n",
    "print('lm3 MSE:', mean_squared_error(y_test, lm3_predict))"
   ]
  },
  {
   "cell_type": "markdown",
   "metadata": {},
   "source": [
    "## 5.3.2 Leave-One-Out Cross-Validation"
   ]
  },
  {
   "cell_type": "markdown",
   "metadata": {},
   "source": [
    "LOOCV 방식은 sklearn에서 지원합니다. model_selection에서 불러옵니다"
   ]
  },
  {
   "cell_type": "code",
   "execution_count": 6,
   "metadata": {
    "scrolled": true
   },
   "outputs": [
    {
     "data": {
      "text/plain": [
       "True"
      ]
     },
     "execution_count": 6,
     "metadata": {},
     "output_type": "execute_result"
    }
   ],
   "source": [
    "from sklearn.model_selection import LeaveOneOut\n",
    "\n",
    "X, y = auto.loc[:, ['horsepower', 'horsepower_2', 'horsepower_3', 'horsepower_4', 'horsepower_5']], auto.mpg\n",
    "\n",
    "loocv = LeaveOneOut()\n",
    "loocv.get_n_splits(X)\n",
    "\n",
    "#get_n_splits method는 입력받은 DataSet을 관측치 개수 n으로 쪼갭니다. auto DataFrame의 길이와 일치하는지 봅시다.\n",
    "loocv.get_n_splits(X) == len(auto) "
   ]
  },
  {
   "cell_type": "code",
   "execution_count": 7,
   "metadata": {},
   "outputs": [
    {
     "data": {
      "text/plain": [
       "24.23151351792923"
      ]
     },
     "execution_count": 7,
     "metadata": {},
     "output_type": "execute_result"
    }
   ],
   "source": [
    "# Split이 완료되었으므로 MSE를 산출해봅시다.\n",
    "# sklearn이 지원하는 cross_validation_score를 이용하여 쉽게 MSE를 산출할 수 있습니다.\n",
    "# 여러가지 k값을 쉽게 확인해 볼 수 있습니다.\n",
    "# LOOCV의 방식은 K-Fold에서 k = n으로 설정한 것과 동일합니다.\n",
    "\n",
    "from sklearn.model_selection import cross_val_score\n",
    "\n",
    "lm = LinearRegression(fit_intercept=True)\n",
    "\n",
    "cval = cross_val_score(estimator = lm, \n",
    "                       X = auto.loc[:, 'horsepower'].values.reshape(-1, 1), \n",
    "                       y = auto.mpg, \n",
    "                       cv=len(auto), #Fold 횟수를 지정. Estimator가 Classifier면 stratifiedKfold가, 아니라면 Kfold로 적용. Default는 k=3입니다. 여기서는 k = n으로 설정합니다.\n",
    "                       n_jobs=-1, #하드웨어 관련 지표, 연산 시 CPU를 몇개 사용할 것이냐에 관한 parameter입니다.\n",
    "                       scoring='neg_mean_squared_error')\n",
    "-cval.mean()\n",
    "\n",
    "## Notation ##\n",
    "#사이킷런의 교차 검증 기능은 scoring 매개변수에 (낮을수록 좋은) 비용 함수가 아니라 (클수록 좋은) 효용 함수를 기대합니다. \n",
    "#그래서 평균 제곱 오차(MSE)의 반댓값(즉, 음숫값)을 계산하는 neg_mean_squared_error 함수를 사용합니다. \n",
    "# 이런 이유로 앞선 코드에서 제곱근을 계산하기 전에 -scores로 부호를 바꿨습니다"
   ]
  },
  {
   "cell_type": "code",
   "execution_count": 8,
   "metadata": {},
   "outputs": [
    {
     "data": {
      "text/plain": [
       "24.231513517929226"
      ]
     },
     "execution_count": 8,
     "metadata": {},
     "output_type": "execute_result"
    }
   ],
   "source": [
    "# 정석대로 MSE를 산출하는 과정을 구현한 코드입니다.\n",
    "# for 구문을 이용해 n개의 mse의 평균을 구합니다.\n",
    "\n",
    "loocv_mse = []\n",
    "lm = LinearRegression(fit_intercept=True)\n",
    "\n",
    "for train_index, test_index in loocv.split(X):\n",
    "    X_train, X_test = X.iloc[train_index], X.iloc[test_index]\n",
    "    y_train, y_test = y.iloc[train_index], y.iloc[test_index]\n",
    "    \n",
    "    lm1_fit = lm.fit(X_train.loc[:, 'horsepower'].values.reshape(-1, 1), y_train)\n",
    "    lm1_predict = lm1_fit.predict(X_test.loc[:, 'horsepower'].values.reshape(-1, 1))\n",
    "    \n",
    "    loocv_mse.append(mean_squared_error(y_test, lm1_predict))\n",
    "    \n",
    "np.array(loocv_mse).mean()\n",
    "#동일한 값이 산출됩니다."
   ]
  },
  {
   "cell_type": "code",
   "execution_count": 9,
   "metadata": {},
   "outputs": [],
   "source": [
    "# Loop for 5 degree polinomial linear regressions with LOOCV\n",
    "\n",
    "loocv_poly = {} #1차~5차 Polinomial Regression 결과물을 담을 Dictionary를 형성합니다.\n",
    "\n",
    "for i in range(1, 6):\n",
    "    \n",
    "    loocv_mse = [] #여기엔 각 Polinomial Regression에서의 n개의 MSE 값들이 담길 예정입니다.\n",
    "    \n",
    "    for train_index, test_index in loocv.split(X):\n",
    "        X_train, X_test = X.iloc[train_index], X.iloc[test_index]\n",
    "        y_train, y_test = y.iloc[train_index], y.iloc[test_index]\n",
    "        \n",
    "        if i == 1:\n",
    "            X_TRAIN = X_train.iloc[:,0:1].values.reshape(-1, 1)\n",
    "            X_TEST = X_test.iloc[:,0:1].values.reshape(-1, 1)\n",
    "        else:\n",
    "            X_TRAIN = X_train.iloc[:,0:i]\n",
    "            X_TEST = X_test.iloc[:,0:i]\n",
    "        \n",
    "        loocv_mse.append(\n",
    "            mean_squared_error(\n",
    "                y_test, \n",
    "                LinearRegression(fit_intercept=True)\n",
    "                .fit(\n",
    "                    X_TRAIN, \n",
    "                    y_train\n",
    "                )\n",
    "                .predict(\n",
    "                    X_TEST\n",
    "                )\n",
    "            )\n",
    "        )\n",
    "        \n",
    "        loocv_poly['lm' + str(i) + '_MSE'] = np.array(loocv_mse).mean()"
   ]
  },
  {
   "cell_type": "code",
   "execution_count": 10,
   "metadata": {},
   "outputs": [
    {
     "data": {
      "text/plain": [
       "{'lm1_MSE': 24.231513517929226,\n",
       " 'lm2_MSE': 19.248213124489677,\n",
       " 'lm3_MSE': 19.334984064029538,\n",
       " 'lm4_MSE': 19.424430310310466,\n",
       " 'lm5_MSE': 19.033212804000605}"
      ]
     },
     "execution_count": 10,
     "metadata": {},
     "output_type": "execute_result"
    }
   ],
   "source": [
    "loocv_poly"
   ]
  },
  {
   "cell_type": "markdown",
   "metadata": {},
   "source": [
    "## 5.3.3 k-Fold Cross-Validation"
   ]
  },
  {
   "cell_type": "markdown",
   "metadata": {},
   "source": [
    "K-Fold 역시 sklearn에서 지원합니다."
   ]
  },
  {
   "cell_type": "code",
   "execution_count": 11,
   "metadata": {},
   "outputs": [],
   "source": [
    "from sklearn.model_selection import KFold\n",
    "\n",
    "X, y = auto.loc[:, ['horsepower', 'horsepower_2', 'horsepower_3', 'horsepower_4', 'horsepower_5']], auto.mpg\n",
    "\n",
    "kf = KFold(n_splits=10, shuffle=True)"
   ]
  },
  {
   "cell_type": "code",
   "execution_count": 14,
   "metadata": {
    "scrolled": true
   },
   "outputs": [
    {
     "data": {
      "text/plain": [
       "{'lm1_MSE': 24.220642054268843,\n",
       " 'lm2_MSE': 19.327764907960486,\n",
       " 'lm3_MSE': 19.27053438446128,\n",
       " 'lm4_MSE': 19.536513963568325,\n",
       " 'lm5_MSE': 18.99690364983491}"
      ]
     },
     "execution_count": 14,
     "metadata": {},
     "output_type": "execute_result"
    }
   ],
   "source": [
    "# 각 차수별 MSE를 추정합니다.\n",
    "# Loop for 5 degree polinomial linear regressions with k-Fold CV\n",
    "\n",
    "kf_poly = {}\n",
    "\n",
    "for i in range(1, 6):\n",
    "    \n",
    "    kf_mse = []\n",
    "    \n",
    "    for train_index, test_index in kf.split(X):\n",
    "        X_train, X_test = X.iloc[train_index], X.iloc[test_index]\n",
    "        y_train, y_test = y.iloc[train_index], y.iloc[test_index]\n",
    "        \n",
    "        if i == 1:\n",
    "            X_TRAIN = X_train.iloc[:,0:1].values.reshape(-1, 1)\n",
    "            X_TEST = X_test.iloc[:,0:1].values.reshape(-1, 1)\n",
    "        else:\n",
    "            X_TRAIN = X_train.iloc[:,0:i]\n",
    "            X_TEST = X_test.iloc[:,0:i]\n",
    "        \n",
    "        kf_mse.append(\n",
    "            mean_squared_error(\n",
    "                y_test, \n",
    "                LinearRegression(fit_intercept=True)\n",
    "                .fit(\n",
    "                    X_TRAIN, \n",
    "                    y_train\n",
    "                )\n",
    "                .predict(\n",
    "                    X_TEST\n",
    "                )\n",
    "            )\n",
    "        )\n",
    "        \n",
    "        kf_poly['lm' + str(i) + '_MSE'] = np.array(kf_mse).mean()\n",
    "\n",
    "kf_poly"
   ]
  },
  {
   "cell_type": "code",
   "execution_count": 19,
   "metadata": {},
   "outputs": [
    {
     "name": "stdout",
     "output_type": "stream",
     "text": [
      "5-Fold Result: 31.45\n",
      "10-Fold Result: 27.44\n"
     ]
    }
   ],
   "source": [
    "# Q. 그냥 만들어봤는데, 왜 결과가 다를까요?\n",
    "# from sklearn.model_selection import cross_val_score\n",
    "\n",
    "lm = LinearRegression(fit_intercept=True)\n",
    "\n",
    "\n",
    "for i in [5,10]:\n",
    "    cval = cross_val_score(estimator = lm, \n",
    "                           X = auto.loc[:, 'horsepower'].values.reshape(-1, 1), \n",
    "                           y = auto.mpg, \n",
    "                           cv=i, \n",
    "                           scoring='neg_mean_squared_error')\n",
    "    \n",
    "    print('{}-Fold Result:'.format(i), format(-cval.mean(),\".2f\"))"
   ]
  },
  {
   "cell_type": "markdown",
   "metadata": {},
   "source": [
    "Q. 교차검증은 모델을 조금 더 정확하게 적합시키는 도구가 아니라면, 실제로는 어떤 상황에서 쓰이는 걸까요?"
   ]
  },
  {
   "cell_type": "markdown",
   "metadata": {},
   "source": [
    "## 5.3.4 The Bootstrap"
   ]
  },
  {
   "cell_type": "markdown",
   "metadata": {},
   "source": [
    "다른 예시를 통해 Bootstrap 개념에 접근합니다"
   ]
  },
  {
   "cell_type": "code",
   "execution_count": 97,
   "metadata": {
    "scrolled": true
   },
   "outputs": [
    {
     "data": {
      "text/html": [
       "<div>\n",
       "<style scoped>\n",
       "    .dataframe tbody tr th:only-of-type {\n",
       "        vertical-align: middle;\n",
       "    }\n",
       "\n",
       "    .dataframe tbody tr th {\n",
       "        vertical-align: top;\n",
       "    }\n",
       "\n",
       "    .dataframe thead th {\n",
       "        text-align: right;\n",
       "    }\n",
       "</style>\n",
       "<table border=\"1\" class=\"dataframe\">\n",
       "  <thead>\n",
       "    <tr style=\"text-align: right;\">\n",
       "      <th></th>\n",
       "      <th>X</th>\n",
       "      <th>Y</th>\n",
       "    </tr>\n",
       "  </thead>\n",
       "  <tbody>\n",
       "    <tr>\n",
       "      <th>1</th>\n",
       "      <td>-0.90</td>\n",
       "      <td>-0.23</td>\n",
       "    </tr>\n",
       "    <tr>\n",
       "      <th>2</th>\n",
       "      <td>-1.56</td>\n",
       "      <td>-0.89</td>\n",
       "    </tr>\n",
       "    <tr>\n",
       "      <th>3</th>\n",
       "      <td>-0.42</td>\n",
       "      <td>0.27</td>\n",
       "    </tr>\n",
       "    <tr>\n",
       "      <th>4</th>\n",
       "      <td>1.04</td>\n",
       "      <td>-0.73</td>\n",
       "    </tr>\n",
       "    <tr>\n",
       "      <th>5</th>\n",
       "      <td>-0.32</td>\n",
       "      <td>0.84</td>\n",
       "    </tr>\n",
       "    <tr>\n",
       "      <th>6</th>\n",
       "      <td>-1.74</td>\n",
       "      <td>-2.04</td>\n",
       "    </tr>\n",
       "    <tr>\n",
       "      <th>7</th>\n",
       "      <td>1.97</td>\n",
       "      <td>1.45</td>\n",
       "    </tr>\n",
       "    <tr>\n",
       "      <th>8</th>\n",
       "      <td>2.15</td>\n",
       "      <td>-0.43</td>\n",
       "    </tr>\n",
       "    <tr>\n",
       "      <th>9</th>\n",
       "      <td>-0.08</td>\n",
       "      <td>1.45</td>\n",
       "    </tr>\n",
       "    <tr>\n",
       "      <th>10</th>\n",
       "      <td>-0.89</td>\n",
       "      <td>0.82</td>\n",
       "    </tr>\n",
       "    <tr>\n",
       "      <th>11</th>\n",
       "      <td>-0.29</td>\n",
       "      <td>-1.04</td>\n",
       "    </tr>\n",
       "    <tr>\n",
       "      <th>12</th>\n",
       "      <td>0.51</td>\n",
       "      <td>0.61</td>\n",
       "    </tr>\n",
       "    <tr>\n",
       "      <th>13</th>\n",
       "      <td>0.53</td>\n",
       "      <td>-0.22</td>\n",
       "    </tr>\n",
       "    <tr>\n",
       "      <th>14</th>\n",
       "      <td>1.07</td>\n",
       "      <td>1.23</td>\n",
       "    </tr>\n",
       "    <tr>\n",
       "      <th>15</th>\n",
       "      <td>0.29</td>\n",
       "      <td>0.63</td>\n",
       "    </tr>\n",
       "    <tr>\n",
       "      <th>16</th>\n",
       "      <td>0.04</td>\n",
       "      <td>-1.27</td>\n",
       "    </tr>\n",
       "    <tr>\n",
       "      <th>17</th>\n",
       "      <td>1.83</td>\n",
       "      <td>-0.57</td>\n",
       "    </tr>\n",
       "    <tr>\n",
       "      <th>18</th>\n",
       "      <td>-0.33</td>\n",
       "      <td>-0.49</td>\n",
       "    </tr>\n",
       "    <tr>\n",
       "      <th>19</th>\n",
       "      <td>0.52</td>\n",
       "      <td>2.57</td>\n",
       "    </tr>\n",
       "    <tr>\n",
       "      <th>20</th>\n",
       "      <td>1.40</td>\n",
       "      <td>-0.36</td>\n",
       "    </tr>\n",
       "    <tr>\n",
       "      <th>21</th>\n",
       "      <td>-0.65</td>\n",
       "      <td>-1.41</td>\n",
       "    </tr>\n",
       "    <tr>\n",
       "      <th>22</th>\n",
       "      <td>-0.90</td>\n",
       "      <td>-0.57</td>\n",
       "    </tr>\n",
       "    <tr>\n",
       "      <th>23</th>\n",
       "      <td>-1.76</td>\n",
       "      <td>-0.75</td>\n",
       "    </tr>\n",
       "    <tr>\n",
       "      <th>24</th>\n",
       "      <td>-1.81</td>\n",
       "      <td>0.49</td>\n",
       "    </tr>\n",
       "    <tr>\n",
       "      <th>25</th>\n",
       "      <td>-1.17</td>\n",
       "      <td>-2.73</td>\n",
       "    </tr>\n",
       "    <tr>\n",
       "      <th>26</th>\n",
       "      <td>-0.69</td>\n",
       "      <td>-0.46</td>\n",
       "    </tr>\n",
       "    <tr>\n",
       "      <th>27</th>\n",
       "      <td>1.09</td>\n",
       "      <td>0.01</td>\n",
       "    </tr>\n",
       "    <tr>\n",
       "      <th>28</th>\n",
       "      <td>-0.43</td>\n",
       "      <td>-0.40</td>\n",
       "    </tr>\n",
       "    <tr>\n",
       "      <th>29</th>\n",
       "      <td>0.27</td>\n",
       "      <td>-0.20</td>\n",
       "    </tr>\n",
       "    <tr>\n",
       "      <th>30</th>\n",
       "      <td>-0.85</td>\n",
       "      <td>-1.74</td>\n",
       "    </tr>\n",
       "    <tr>\n",
       "      <th>...</th>\n",
       "      <td>...</td>\n",
       "      <td>...</td>\n",
       "    </tr>\n",
       "    <tr>\n",
       "      <th>71</th>\n",
       "      <td>-0.98</td>\n",
       "      <td>-1.14</td>\n",
       "    </tr>\n",
       "    <tr>\n",
       "      <th>72</th>\n",
       "      <td>-1.38</td>\n",
       "      <td>0.70</td>\n",
       "    </tr>\n",
       "    <tr>\n",
       "      <th>73</th>\n",
       "      <td>-0.36</td>\n",
       "      <td>-1.69</td>\n",
       "    </tr>\n",
       "    <tr>\n",
       "      <th>74</th>\n",
       "      <td>-0.23</td>\n",
       "      <td>0.80</td>\n",
       "    </tr>\n",
       "    <tr>\n",
       "      <th>75</th>\n",
       "      <td>-0.94</td>\n",
       "      <td>-0.73</td>\n",
       "    </tr>\n",
       "    <tr>\n",
       "      <th>76</th>\n",
       "      <td>2.46</td>\n",
       "      <td>-0.05</td>\n",
       "    </tr>\n",
       "    <tr>\n",
       "      <th>77</th>\n",
       "      <td>0.72</td>\n",
       "      <td>0.60</td>\n",
       "    </tr>\n",
       "    <tr>\n",
       "      <th>78</th>\n",
       "      <td>-0.25</td>\n",
       "      <td>-1.02</td>\n",
       "    </tr>\n",
       "    <tr>\n",
       "      <th>79</th>\n",
       "      <td>1.01</td>\n",
       "      <td>0.05</td>\n",
       "    </tr>\n",
       "    <tr>\n",
       "      <th>80</th>\n",
       "      <td>2.31</td>\n",
       "      <td>1.75</td>\n",
       "    </tr>\n",
       "    <tr>\n",
       "      <th>81</th>\n",
       "      <td>0.84</td>\n",
       "      <td>0.99</td>\n",
       "    </tr>\n",
       "    <tr>\n",
       "      <th>82</th>\n",
       "      <td>-1.07</td>\n",
       "      <td>-1.25</td>\n",
       "    </tr>\n",
       "    <tr>\n",
       "      <th>83</th>\n",
       "      <td>-1.65</td>\n",
       "      <td>0.22</td>\n",
       "    </tr>\n",
       "    <tr>\n",
       "      <th>84</th>\n",
       "      <td>-0.60</td>\n",
       "      <td>-0.42</td>\n",
       "    </tr>\n",
       "    <tr>\n",
       "      <th>85</th>\n",
       "      <td>-0.06</td>\n",
       "      <td>0.13</td>\n",
       "    </tr>\n",
       "    <tr>\n",
       "      <th>86</th>\n",
       "      <td>0.08</td>\n",
       "      <td>-0.52</td>\n",
       "    </tr>\n",
       "    <tr>\n",
       "      <th>87</th>\n",
       "      <td>-1.16</td>\n",
       "      <td>0.59</td>\n",
       "    </tr>\n",
       "    <tr>\n",
       "      <th>88</th>\n",
       "      <td>1.67</td>\n",
       "      <td>0.11</td>\n",
       "    </tr>\n",
       "    <tr>\n",
       "      <th>89</th>\n",
       "      <td>-1.04</td>\n",
       "      <td>-0.42</td>\n",
       "    </tr>\n",
       "    <tr>\n",
       "      <th>90</th>\n",
       "      <td>0.01</td>\n",
       "      <td>-0.56</td>\n",
       "    </tr>\n",
       "    <tr>\n",
       "      <th>91</th>\n",
       "      <td>0.68</td>\n",
       "      <td>1.48</td>\n",
       "    </tr>\n",
       "    <tr>\n",
       "      <th>92</th>\n",
       "      <td>1.78</td>\n",
       "      <td>0.94</td>\n",
       "    </tr>\n",
       "    <tr>\n",
       "      <th>93</th>\n",
       "      <td>-1.30</td>\n",
       "      <td>-1.09</td>\n",
       "    </tr>\n",
       "    <tr>\n",
       "      <th>94</th>\n",
       "      <td>0.08</td>\n",
       "      <td>-0.54</td>\n",
       "    </tr>\n",
       "    <tr>\n",
       "      <th>95</th>\n",
       "      <td>2.26</td>\n",
       "      <td>0.67</td>\n",
       "    </tr>\n",
       "    <tr>\n",
       "      <th>96</th>\n",
       "      <td>0.48</td>\n",
       "      <td>1.45</td>\n",
       "    </tr>\n",
       "    <tr>\n",
       "      <th>97</th>\n",
       "      <td>-0.54</td>\n",
       "      <td>-0.40</td>\n",
       "    </tr>\n",
       "    <tr>\n",
       "      <th>98</th>\n",
       "      <td>-0.77</td>\n",
       "      <td>-0.96</td>\n",
       "    </tr>\n",
       "    <tr>\n",
       "      <th>99</th>\n",
       "      <td>0.40</td>\n",
       "      <td>1.40</td>\n",
       "    </tr>\n",
       "    <tr>\n",
       "      <th>100</th>\n",
       "      <td>-0.59</td>\n",
       "      <td>-0.50</td>\n",
       "    </tr>\n",
       "  </tbody>\n",
       "</table>\n",
       "<p>100 rows × 2 columns</p>\n",
       "</div>"
      ],
      "text/plain": [
       "                       X                    Y\n",
       "1                  -0.90                -0.23\n",
       "2                  -1.56                -0.89\n",
       "3                  -0.42                 0.27\n",
       "4                   1.04                -0.73\n",
       "5                  -0.32                 0.84\n",
       "6                  -1.74                -2.04\n",
       "7                   1.97                 1.45\n",
       "8                   2.15                -0.43\n",
       "9                  -0.08                 1.45\n",
       "10                 -0.89                 0.82\n",
       "11                 -0.29                -1.04\n",
       "12                  0.51                 0.61\n",
       "13                  0.53                -0.22\n",
       "14                  1.07                 1.23\n",
       "15                  0.29                 0.63\n",
       "16                  0.04                -1.27\n",
       "17                  1.83                -0.57\n",
       "18                 -0.33                -0.49\n",
       "19                  0.52                 2.57\n",
       "20                  1.40                -0.36\n",
       "21                 -0.65                -1.41\n",
       "22                 -0.90                -0.57\n",
       "23                 -1.76                -0.75\n",
       "24                 -1.81                 0.49\n",
       "25                 -1.17                -2.73\n",
       "26                 -0.69                -0.46\n",
       "27                  1.09                 0.01\n",
       "28                 -0.43                -0.40\n",
       "29                  0.27                -0.20\n",
       "30                 -0.85                -1.74\n",
       "..                   ...                  ...\n",
       "71                 -0.98                -1.14\n",
       "72                 -1.38                 0.70\n",
       "73                 -0.36                -1.69\n",
       "74                 -0.23                 0.80\n",
       "75                 -0.94                -0.73\n",
       "76                  2.46                -0.05\n",
       "77                  0.72                 0.60\n",
       "78                 -0.25                -1.02\n",
       "79                  1.01                 0.05\n",
       "80                  2.31                 1.75\n",
       "81                  0.84                 0.99\n",
       "82                 -1.07                -1.25\n",
       "83                 -1.65                 0.22\n",
       "84                 -0.60                -0.42\n",
       "85                 -0.06                 0.13\n",
       "86                  0.08                -0.52\n",
       "87                 -1.16                 0.59\n",
       "88                  1.67                 0.11\n",
       "89                 -1.04                -0.42\n",
       "90                  0.01                -0.56\n",
       "91                  0.68                 1.48\n",
       "92                  1.78                 0.94\n",
       "93                 -1.30                -1.09\n",
       "94                  0.08                -0.54\n",
       "95                  2.26                 0.67\n",
       "96                  0.48                 1.45\n",
       "97                 -0.54                -0.40\n",
       "98                 -0.77                -0.96\n",
       "99                  0.40                 1.40\n",
       "100                -0.59                -0.50\n",
       "\n",
       "[100 rows x 2 columns]"
      ]
     },
     "execution_count": 97,
     "metadata": {},
     "output_type": "execute_result"
    }
   ],
   "source": [
    "portfolio = pd.read_csv('https://raw.githubusercontent.com/emredjan/ISL-python/master/datasets/Portfolio.csv', index_col=0)\n",
    "portfolio"
   ]
  },
  {
   "cell_type": "code",
   "execution_count": 98,
   "metadata": {},
   "outputs": [],
   "source": [
    "portfolio.index = [i for i in range(0,100)]\n",
    "IE_data = \n",
    "pd.concat((portfolio,\n",
    "           pd.DataFrame(np.round((np.random.random((100,3))-0.5)*6,2),columns=['Z','V','W']))\n",
    "          ,1)\n",
    "IE_data['W'] **=2\n",
    "IE_data['X'] = (IE_data['X'])*4\n",
    "IE_data['V'] = (IE_data['V']+0.1)*3+3"
   ]
  },
  {
   "cell_type": "code",
   "execution_count": 99,
   "metadata": {},
   "outputs": [],
   "source": []
  },
  {
   "cell_type": "code",
   "execution_count": 100,
   "metadata": {},
   "outputs": [],
   "source": []
  },
  {
   "cell_type": "code",
   "execution_count": 101,
   "metadata": {},
   "outputs": [],
   "source": []
  },
  {
   "cell_type": "code",
   "execution_count": 124,
   "metadata": {
    "scrolled": true
   },
   "outputs": [],
   "source": [
    "IE_data.cov().to_csv('cov.csv')"
   ]
  },
  {
   "cell_type": "code",
   "execution_count": 121,
   "metadata": {},
   "outputs": [],
   "source": [
    "IE_data.X = -IE_data.X\n",
    "IE_data.Y = -IE_data.Y\n",
    "IE_data.Z = -IE_data.Z"
   ]
  },
  {
   "cell_type": "code",
   "execution_count": 122,
   "metadata": {},
   "outputs": [
    {
     "data": {
      "text/html": [
       "<div>\n",
       "<style scoped>\n",
       "    .dataframe tbody tr th:only-of-type {\n",
       "        vertical-align: middle;\n",
       "    }\n",
       "\n",
       "    .dataframe tbody tr th {\n",
       "        vertical-align: top;\n",
       "    }\n",
       "\n",
       "    .dataframe thead th {\n",
       "        text-align: right;\n",
       "    }\n",
       "</style>\n",
       "<table border=\"1\" class=\"dataframe\">\n",
       "  <thead>\n",
       "    <tr style=\"text-align: right;\">\n",
       "      <th></th>\n",
       "      <th>X</th>\n",
       "      <th>Y</th>\n",
       "      <th>Z</th>\n",
       "      <th>V</th>\n",
       "      <th>W</th>\n",
       "    </tr>\n",
       "  </thead>\n",
       "  <tbody>\n",
       "    <tr>\n",
       "      <th>0</th>\n",
       "      <td>3.58</td>\n",
       "      <td>0.23</td>\n",
       "      <td>0.62</td>\n",
       "      <td>5.49</td>\n",
       "      <td>5.38</td>\n",
       "    </tr>\n",
       "    <tr>\n",
       "      <th>1</th>\n",
       "      <td>6.25</td>\n",
       "      <td>0.89</td>\n",
       "      <td>1.90</td>\n",
       "      <td>11.82</td>\n",
       "      <td>4.97</td>\n",
       "    </tr>\n",
       "    <tr>\n",
       "      <th>2</th>\n",
       "      <td>1.67</td>\n",
       "      <td>-0.27</td>\n",
       "      <td>1.10</td>\n",
       "      <td>-3.54</td>\n",
       "      <td>1.69</td>\n",
       "    </tr>\n",
       "    <tr>\n",
       "      <th>3</th>\n",
       "      <td>-4.18</td>\n",
       "      <td>0.73</td>\n",
       "      <td>-2.48</td>\n",
       "      <td>-4.59</td>\n",
       "      <td>0.04</td>\n",
       "    </tr>\n",
       "    <tr>\n",
       "      <th>4</th>\n",
       "      <td>1.26</td>\n",
       "      <td>-0.84</td>\n",
       "      <td>1.91</td>\n",
       "      <td>4.83</td>\n",
       "      <td>2.96</td>\n",
       "    </tr>\n",
       "    <tr>\n",
       "      <th>5</th>\n",
       "      <td>6.95</td>\n",
       "      <td>2.04</td>\n",
       "      <td>-0.96</td>\n",
       "      <td>4.32</td>\n",
       "      <td>3.10</td>\n",
       "    </tr>\n",
       "    <tr>\n",
       "      <th>6</th>\n",
       "      <td>-7.87</td>\n",
       "      <td>-1.45</td>\n",
       "      <td>-2.64</td>\n",
       "      <td>-2.31</td>\n",
       "      <td>6.20</td>\n",
       "    </tr>\n",
       "    <tr>\n",
       "      <th>7</th>\n",
       "      <td>-8.61</td>\n",
       "      <td>0.43</td>\n",
       "      <td>-1.05</td>\n",
       "      <td>0.87</td>\n",
       "      <td>0.34</td>\n",
       "    </tr>\n",
       "    <tr>\n",
       "      <th>8</th>\n",
       "      <td>0.32</td>\n",
       "      <td>-1.45</td>\n",
       "      <td>1.98</td>\n",
       "      <td>-1.92</td>\n",
       "      <td>2.86</td>\n",
       "    </tr>\n",
       "    <tr>\n",
       "      <th>9</th>\n",
       "      <td>3.57</td>\n",
       "      <td>-0.82</td>\n",
       "      <td>1.36</td>\n",
       "      <td>-5.16</td>\n",
       "      <td>4.08</td>\n",
       "    </tr>\n",
       "    <tr>\n",
       "      <th>10</th>\n",
       "      <td>1.17</td>\n",
       "      <td>1.04</td>\n",
       "      <td>1.35</td>\n",
       "      <td>9.66</td>\n",
       "      <td>2.82</td>\n",
       "    </tr>\n",
       "    <tr>\n",
       "      <th>11</th>\n",
       "      <td>-2.02</td>\n",
       "      <td>-0.61</td>\n",
       "      <td>1.60</td>\n",
       "      <td>-4.71</td>\n",
       "      <td>0.64</td>\n",
       "    </tr>\n",
       "    <tr>\n",
       "      <th>12</th>\n",
       "      <td>-2.11</td>\n",
       "      <td>0.22</td>\n",
       "      <td>-1.29</td>\n",
       "      <td>-2.70</td>\n",
       "      <td>3.17</td>\n",
       "    </tr>\n",
       "    <tr>\n",
       "      <th>13</th>\n",
       "      <td>-4.27</td>\n",
       "      <td>-1.23</td>\n",
       "      <td>2.30</td>\n",
       "      <td>-4.38</td>\n",
       "      <td>2.43</td>\n",
       "    </tr>\n",
       "    <tr>\n",
       "      <th>14</th>\n",
       "      <td>-1.18</td>\n",
       "      <td>-0.63</td>\n",
       "      <td>-1.03</td>\n",
       "      <td>9.48</td>\n",
       "      <td>0.00</td>\n",
       "    </tr>\n",
       "    <tr>\n",
       "      <th>15</th>\n",
       "      <td>-0.17</td>\n",
       "      <td>1.27</td>\n",
       "      <td>2.68</td>\n",
       "      <td>1.17</td>\n",
       "      <td>6.10</td>\n",
       "    </tr>\n",
       "    <tr>\n",
       "      <th>16</th>\n",
       "      <td>-7.32</td>\n",
       "      <td>0.57</td>\n",
       "      <td>-2.04</td>\n",
       "      <td>11.22</td>\n",
       "      <td>0.96</td>\n",
       "    </tr>\n",
       "    <tr>\n",
       "      <th>17</th>\n",
       "      <td>1.31</td>\n",
       "      <td>0.49</td>\n",
       "      <td>2.20</td>\n",
       "      <td>-1.29</td>\n",
       "      <td>6.35</td>\n",
       "    </tr>\n",
       "    <tr>\n",
       "      <th>18</th>\n",
       "      <td>-2.09</td>\n",
       "      <td>-2.57</td>\n",
       "      <td>-1.22</td>\n",
       "      <td>11.49</td>\n",
       "      <td>4.28</td>\n",
       "    </tr>\n",
       "    <tr>\n",
       "      <th>19</th>\n",
       "      <td>-5.60</td>\n",
       "      <td>0.36</td>\n",
       "      <td>-1.21</td>\n",
       "      <td>-0.36</td>\n",
       "      <td>4.41</td>\n",
       "    </tr>\n",
       "  </tbody>\n",
       "</table>\n",
       "</div>"
      ],
      "text/plain": [
       "                      X                    Y                    Z  \\\n",
       "0                  3.58                 0.23                 0.62   \n",
       "1                  6.25                 0.89                 1.90   \n",
       "2                  1.67                -0.27                 1.10   \n",
       "3                 -4.18                 0.73                -2.48   \n",
       "4                  1.26                -0.84                 1.91   \n",
       "5                  6.95                 2.04                -0.96   \n",
       "6                 -7.87                -1.45                -2.64   \n",
       "7                 -8.61                 0.43                -1.05   \n",
       "8                  0.32                -1.45                 1.98   \n",
       "9                  3.57                -0.82                 1.36   \n",
       "10                 1.17                 1.04                 1.35   \n",
       "11                -2.02                -0.61                 1.60   \n",
       "12                -2.11                 0.22                -1.29   \n",
       "13                -4.27                -1.23                 2.30   \n",
       "14                -1.18                -0.63                -1.03   \n",
       "15                -0.17                 1.27                 2.68   \n",
       "16                -7.32                 0.57                -2.04   \n",
       "17                 1.31                 0.49                 2.20   \n",
       "18                -2.09                -2.57                -1.22   \n",
       "19                -5.60                 0.36                -1.21   \n",
       "\n",
       "                      V                    W  \n",
       "0                  5.49                 5.38  \n",
       "1                 11.82                 4.97  \n",
       "2                 -3.54                 1.69  \n",
       "3                 -4.59                 0.04  \n",
       "4                  4.83                 2.96  \n",
       "5                  4.32                 3.10  \n",
       "6                 -2.31                 6.20  \n",
       "7                  0.87                 0.34  \n",
       "8                 -1.92                 2.86  \n",
       "9                 -5.16                 4.08  \n",
       "10                 9.66                 2.82  \n",
       "11                -4.71                 0.64  \n",
       "12                -2.70                 3.17  \n",
       "13                -4.38                 2.43  \n",
       "14                 9.48                 0.00  \n",
       "15                 1.17                 6.10  \n",
       "16                11.22                 0.96  \n",
       "17                -1.29                 6.35  \n",
       "18                11.49                 4.28  \n",
       "19                -0.36                 4.41  "
      ]
     },
     "execution_count": 122,
     "metadata": {},
     "output_type": "execute_result"
    }
   ],
   "source": [
    "IE_data.head(20)"
   ]
  },
  {
   "cell_type": "code",
   "execution_count": 105,
   "metadata": {},
   "outputs": [],
   "source": [
    "IE_data.to_csv(\"투자공학 GA실습(3).CSV\")"
   ]
  },
  {
   "cell_type": "code",
   "execution_count": 107,
   "metadata": {},
   "outputs": [],
   "source": [
    "IE_data.corr().to_csv('corr.csv')"
   ]
  },
  {
   "cell_type": "code",
   "execution_count": 115,
   "metadata": {},
   "outputs": [],
   "source": [
    "for_corr = pd.read_csv(\"투자공학 GA실습(3).CSV\")"
   ]
  },
  {
   "cell_type": "code",
   "execution_count": 117,
   "metadata": {},
   "outputs": [],
   "source": [
    "for_corr.corr().to_csv('corr.csv')"
   ]
  },
  {
   "cell_type": "code",
   "execution_count": null,
   "metadata": {},
   "outputs": [],
   "source": []
  },
  {
   "cell_type": "code",
   "execution_count": 4,
   "metadata": {},
   "outputs": [],
   "source": [
    "portfolio.to_csv(\"port.csv\")"
   ]
  },
  {
   "cell_type": "code",
   "execution_count": 21,
   "metadata": {},
   "outputs": [
    {
     "data": {
      "text/plain": [
       "100"
      ]
     },
     "execution_count": 21,
     "metadata": {},
     "output_type": "execute_result"
    }
   ],
   "source": [
    "len(portfolio)"
   ]
  },
  {
   "cell_type": "code",
   "execution_count": 22,
   "metadata": {},
   "outputs": [
    {
     "data": {
      "text/plain": [
       "array([[1.12864236, 0.62635829],\n",
       "       [0.62635829, 1.30823747]])"
      ]
     },
     "execution_count": 22,
     "metadata": {},
     "output_type": "execute_result"
    }
   ],
   "source": [
    "#numpy의 covariance method는 행을 변수로, 열을 관측치로 입력받도록 되어있습니다. rowvar를 통해서 이 설정을 바꿀 수 있습니다.\n",
    "\n",
    "np.cov(portfolio, rowvar = False)"
   ]
  },
  {
   "cell_type": "code",
   "execution_count": 23,
   "metadata": {
    "scrolled": true
   },
   "outputs": [
    {
     "data": {
      "text/plain": [
       "array([[1.12864236, 0.62635829],\n",
       "       [0.62635829, 1.30823747]])"
      ]
     },
     "execution_count": 23,
     "metadata": {},
     "output_type": "execute_result"
    }
   ],
   "source": [
    "#이런 방식으로도 구할 수 있습니다.\n",
    "\n",
    "np.cov(portfolio.X, portfolio.Y)"
   ]
  },
  {
   "cell_type": "code",
   "execution_count": 10,
   "metadata": {},
   "outputs": [],
   "source": [
    "# 위 portfolio sample을 가지고 교재 5.7(187p)에 정의된 alpha 추정 값을 구합니다. \n",
    "# alpha만큼 X에, 1-alpha만큼 Y에 투자해야 총 위험을 줄일 수 있습니다.\n",
    "\n",
    "def alpha_fn(data, start_index, end_index):\n",
    "    X = data['X'][start_index:end_index]\n",
    "    Y = data['Y'][start_index:end_index]\n",
    "    return ((np.var(Y) - np.cov(X, Y)[0][1]) / (np.var(X) + np.var(Y) - 2 * np.cov(X, Y)[0][1]))"
   ]
  },
  {
   "cell_type": "code",
   "execution_count": 11,
   "metadata": {},
   "outputs": [
    {
     "data": {
      "text/plain": [
       "0.5766511516104118"
      ]
     },
     "execution_count": 11,
     "metadata": {},
     "output_type": "execute_result"
    }
   ],
   "source": [
    "alpha_fn(portfolio, 0, 100)"
   ]
  },
  {
   "cell_type": "code",
   "execution_count": 12,
   "metadata": {},
   "outputs": [
    {
     "data": {
      "text/plain": [
       "0.5185361069818833"
      ]
     },
     "execution_count": 12,
     "metadata": {},
     "output_type": "execute_result"
    }
   ],
   "source": [
    "from sklearn.utils import resample\n",
    "\n",
    "portfolio_bs = resample(portfolio, replace=True, n_samples=100)\n",
    "alpha_fn(portfolio_bs, 0, 100)\n",
    "\n",
    "#참고로 이 값은 매번 다르게 나옵니다."
   ]
  },
  {
   "cell_type": "markdown",
   "metadata": {},
   "source": [
    "--------------------------"
   ]
  },
  {
   "cell_type": "markdown",
   "metadata": {},
   "source": [
    "### sklearn.utils.resample?\n",
    "\n",
    "주어진 array나 dataframe을 resample 해줍니다. parameter의 replace를 True로 해주면 복원추출을 통해 n_sample만큼의 표본을 재추출해줍니다. 다시말해, 100개의 관측치를 가진 하나의 sample data 로 여러개의 서로 다른 표본을 만들 수 있습니다."
   ]
  },
  {
   "cell_type": "code",
   "execution_count": 27,
   "metadata": {
    "scrolled": false
   },
   "outputs": [
    {
     "data": {
      "text/html": [
       "<div>\n",
       "<style scoped>\n",
       "    .dataframe tbody tr th:only-of-type {\n",
       "        vertical-align: middle;\n",
       "    }\n",
       "\n",
       "    .dataframe tbody tr th {\n",
       "        vertical-align: top;\n",
       "    }\n",
       "\n",
       "    .dataframe thead th {\n",
       "        text-align: right;\n",
       "    }\n",
       "</style>\n",
       "<table border=\"1\" class=\"dataframe\">\n",
       "  <thead>\n",
       "    <tr style=\"text-align: right;\">\n",
       "      <th></th>\n",
       "      <th>S</th>\n",
       "      <th>L</th>\n",
       "    </tr>\n",
       "  </thead>\n",
       "  <tbody>\n",
       "    <tr>\n",
       "      <th>0</th>\n",
       "      <td>1</td>\n",
       "      <td>6</td>\n",
       "    </tr>\n",
       "    <tr>\n",
       "      <th>1</th>\n",
       "      <td>2</td>\n",
       "      <td>7</td>\n",
       "    </tr>\n",
       "    <tr>\n",
       "      <th>2</th>\n",
       "      <td>3</td>\n",
       "      <td>8</td>\n",
       "    </tr>\n",
       "    <tr>\n",
       "      <th>3</th>\n",
       "      <td>4</td>\n",
       "      <td>9</td>\n",
       "    </tr>\n",
       "    <tr>\n",
       "      <th>4</th>\n",
       "      <td>5</td>\n",
       "      <td>10</td>\n",
       "    </tr>\n",
       "  </tbody>\n",
       "</table>\n",
       "</div>"
      ],
      "text/plain": [
       "   S   L\n",
       "0  1   6\n",
       "1  2   7\n",
       "2  3   8\n",
       "3  4   9\n",
       "4  5  10"
      ]
     },
     "execution_count": 27,
     "metadata": {},
     "output_type": "execute_result"
    }
   ],
   "source": [
    "example = pd.DataFrame({'S':[1,2,3,4,5],'L':[6,7,8,9,10]})\n",
    "example"
   ]
  },
  {
   "cell_type": "code",
   "execution_count": 28,
   "metadata": {},
   "outputs": [
    {
     "data": {
      "text/html": [
       "<div>\n",
       "<style scoped>\n",
       "    .dataframe tbody tr th:only-of-type {\n",
       "        vertical-align: middle;\n",
       "    }\n",
       "\n",
       "    .dataframe tbody tr th {\n",
       "        vertical-align: top;\n",
       "    }\n",
       "\n",
       "    .dataframe thead th {\n",
       "        text-align: right;\n",
       "    }\n",
       "</style>\n",
       "<table border=\"1\" class=\"dataframe\">\n",
       "  <thead>\n",
       "    <tr style=\"text-align: right;\">\n",
       "      <th></th>\n",
       "      <th>S</th>\n",
       "      <th>L</th>\n",
       "    </tr>\n",
       "  </thead>\n",
       "  <tbody>\n",
       "    <tr>\n",
       "      <th>0</th>\n",
       "      <td>1</td>\n",
       "      <td>6</td>\n",
       "    </tr>\n",
       "    <tr>\n",
       "      <th>4</th>\n",
       "      <td>5</td>\n",
       "      <td>10</td>\n",
       "    </tr>\n",
       "    <tr>\n",
       "      <th>2</th>\n",
       "      <td>3</td>\n",
       "      <td>8</td>\n",
       "    </tr>\n",
       "    <tr>\n",
       "      <th>1</th>\n",
       "      <td>2</td>\n",
       "      <td>7</td>\n",
       "    </tr>\n",
       "    <tr>\n",
       "      <th>1</th>\n",
       "      <td>2</td>\n",
       "      <td>7</td>\n",
       "    </tr>\n",
       "  </tbody>\n",
       "</table>\n",
       "</div>"
      ],
      "text/plain": [
       "   S   L\n",
       "0  1   6\n",
       "4  5  10\n",
       "2  3   8\n",
       "1  2   7\n",
       "1  2   7"
      ]
     },
     "execution_count": 28,
     "metadata": {},
     "output_type": "execute_result"
    }
   ],
   "source": [
    "resample(example, replace = True, n_samples = 5)"
   ]
  },
  {
   "cell_type": "markdown",
   "metadata": {},
   "source": [
    "----------------------------"
   ]
  },
  {
   "cell_type": "code",
   "execution_count": 13,
   "metadata": {},
   "outputs": [
    {
     "name": "stdout",
     "output_type": "stream",
     "text": [
      "Bootstrapped alpha: 0.5750377729194012\n",
      "SE: 0.09224956386200155\n"
     ]
    }
   ],
   "source": [
    "# Bootstrap is removed from sklearn...그렇다고 합니다.\n",
    "# 100개의 관측치를 가진 portfolio data sample을 1000번 복원추출하여 alpha 추정치 1000개를 만들고 평균과 분포를 구합니다.\n",
    "\n",
    "\n",
    "bs_alpha = []\n",
    "\n",
    "for i in range(0, 1000):\n",
    "    bs_alpha.append(\n",
    "        alpha_fn(resample(portfolio, replace=True, n_samples=100), 0, 100)\n",
    "    )\n",
    "\n",
    "bs_alpha = np.array(bs_alpha)\n",
    "\n",
    "print('Bootstrapped alpha:', bs_alpha.mean())\n",
    "print('SE:',  bs_alpha.std())"
   ]
  },
  {
   "cell_type": "code",
   "execution_count": 40,
   "metadata": {
    "scrolled": true
   },
   "outputs": [
    {
     "data": {
      "image/png": "[encoded data removed]",
      "text/plain": [
       "<Figure size 432x288 with 1 Axes>"
      ]
     },
     "metadata": {
      "needs_background": "light"
     },
     "output_type": "display_data"
    }
   ],
   "source": [
    "#추가\n",
    "import matplotlib.pyplot as plt\n",
    "\n",
    "plt.hist(bs_alpha, bins=np.linspace(0, 1, 100),  histtype=u'step', density=True) \n",
    "plt.show()\n"
   ]
  },
  {
   "cell_type": "markdown",
   "metadata": {},
   "source": [
    "--------------------------------------"
   ]
  },
  {
   "cell_type": "markdown",
   "metadata": {},
   "source": [
    "다시 horsepower 예시로 돌아가 봅시다"
   ]
  },
  {
   "cell_type": "code",
   "execution_count": 17,
   "metadata": {},
   "outputs": [
    {
     "data": {
      "text/plain": [
       "(39.935861021170467, array([-0.15784473]))"
      ]
     },
     "execution_count": 17,
     "metadata": {},
     "output_type": "execute_result"
    }
   ],
   "source": [
    "#주어진 관측치를 통해 X = horsepower, Y = mpg인 선형 회귀의 B0와 B1을 추출하는 함수를 만듭니다.\n",
    "\n",
    "def boot_fn(data, start_index, end_index):\n",
    "    m = LinearRegression(fit_intercept=True).fit(\n",
    "        data['horsepower'][start_index:end_index].values.reshape(-1, 1),\n",
    "        data['mpg'][start_index:end_index]\n",
    "    )\n",
    "    \n",
    "    return m.intercept_, m.coef_\n",
    "    \n",
    "boot_fn(auto, 0, 392) #auto data set의 관측치는 392개입니다."
   ]
  },
  {
   "cell_type": "code",
   "execution_count": 18,
   "metadata": {},
   "outputs": [
    {
     "data": {
      "text/plain": [
       "(39.976257979933948, array([-0.15837384]))"
      ]
     },
     "execution_count": 18,
     "metadata": {},
     "output_type": "execute_result"
    }
   ],
   "source": [
    "#Resample을 거친 auto에도 동일한 함수를 적용합니다. 큰 차이가 나지 않습니다.\n",
    "\n",
    "boot_fn(resample(auto, replace=True, n_samples=392), 0, 392)"
   ]
  },
  {
   "cell_type": "code",
   "execution_count": 19,
   "metadata": {},
   "outputs": [
    {
     "name": "stdout",
     "output_type": "stream",
     "text": [
      "t1 bs estimate & se: 39.9525008766 0.87663899372\n",
      "t2 bs estimate & se: -0.158546240855 0.00740859983384\n"
     ]
    }
   ],
   "source": [
    "#1000번의 Resampling을 통해 B0, B1의 분포에 대한 정보(평균과 표준편차)를 구합니다.\n",
    "\n",
    "bs_boot = {'t1': [], 't2': []}\n",
    "\n",
    "for i in range(0, 1000):\n",
    "    bs_boot['t1'].append(\n",
    "        boot_fn(resample(auto, replace=True, n_samples=392), 0, 392)[0]\n",
    "    )\n",
    "    bs_boot['t2'].append(\n",
    "        boot_fn(resample(auto, replace=True, n_samples=392), 0, 392)[1][0]\n",
    "    )\n",
    "\n",
    "t1_es = np.array(bs_boot['t1']).mean()\n",
    "t1_se = np.array(bs_boot['t1']).std()\n",
    "t2_es = np.array(bs_boot['t2']).mean()\n",
    "t2_se = np.array(bs_boot['t2']).std()\n",
    "\n",
    "print('t1 bs estimate & se:', t1_es, t1_se)\n",
    "print('t2 bs estimate & se:', t2_es, t2_se)"
   ]
  },
  {
   "cell_type": "code",
   "execution_count": 20,
   "metadata": {},
   "outputs": [
    {
     "data": {
      "text/html": [
       "<table class=\"simpletable\">\n",
       "<tr>\n",
       "       <td></td>         <th>coef</th>     <th>std err</th>      <th>t</th>      <th>P>|t|</th>  <th>[0.025</th>    <th>0.975]</th>  \n",
       "</tr>\n",
       "<tr>\n",
       "  <th>Intercept</th>  <td>   39.9359</td> <td>    0.717</td> <td>   55.660</td> <td> 0.000</td> <td>   38.525</td> <td>   41.347</td>\n",
       "</tr>\n",
       "<tr>\n",
       "  <th>horsepower</th> <td>   -0.1578</td> <td>    0.006</td> <td>  -24.489</td> <td> 0.000</td> <td>   -0.171</td> <td>   -0.145</td>\n",
       "</tr>\n",
       "</table>"
      ],
      "text/plain": [
       "<class 'statsmodels.iolib.table.SimpleTable'>"
      ]
     },
     "execution_count": 20,
     "metadata": {},
     "output_type": "execute_result"
    }
   ],
   "source": [
    "#stats model을 통해 비교해 봅시다.\n",
    "\n",
    "import statsmodels.formula.api as sm\n",
    "\n",
    "ols = sm.ols('mpg ~ horsepower', data=auto).fit()\n",
    "ols.summary().tables[1]"
   ]
  },
  {
   "cell_type": "code",
   "execution_count": 21,
   "metadata": {
    "collapsed": true
   },
   "outputs": [],
   "source": [
    "#Polynomial Regression에도 적용해 봅시다.\n",
    "\n",
    "def boot_fn2(data, start_index, end_index):\n",
    "    m = LinearRegression(fit_intercept=True).fit(\n",
    "        data[['horsepower', 'horsepower_2']][start_index:end_index],\n",
    "        data['mpg'][start_index:end_index]\n",
    "    )\n",
    "    \n",
    "    return m.intercept_, m.coef_"
   ]
  },
  {
   "cell_type": "code",
   "execution_count": 22,
   "metadata": {
    "scrolled": true
   },
   "outputs": [
    {
     "name": "stdout",
     "output_type": "stream",
     "text": [
      "t1 bs estimate & se: 56.9019483024 2.09407566128\n",
      "t2 bs estimate & se: -0.467255812708 0.0328945365585\n",
      "t3 bs estimate & se: 0.00123678486306 0.000123419462541\n"
     ]
    }
   ],
   "source": [
    "bs_boot2 = {'t1': [], 't2': [], 't3': []}\n",
    "\n",
    "for i in range(0, 1000):\n",
    "    bs_boot2['t1'].append(\n",
    "        boot_fn2(resample(auto, replace=True, n_samples=392), 0, 392)[0]\n",
    "    )\n",
    "    bs_boot2['t2'].append(\n",
    "        boot_fn2(resample(auto, replace=True, n_samples=392), 0, 392)[1][0]\n",
    "    )\n",
    "    bs_boot2['t3'].append(\n",
    "        boot_fn2(resample(auto, replace=True, n_samples=392), 0, 392)[1][1]\n",
    "    )\n",
    "\n",
    "\n",
    "t1_es = np.array(bs_boot2['t1']).mean()\n",
    "t1_se = np.array(bs_boot2['t1']).std()\n",
    "t2_es = np.array(bs_boot2['t2']).mean()\n",
    "t2_se = np.array(bs_boot2['t2']).std()\n",
    "t3_es = np.array(bs_boot2['t3']).mean()\n",
    "t3_se = np.array(bs_boot2['t3']).std()\n",
    "\n",
    "print('t1 bs estimate & se:', t1_es, t1_se)\n",
    "print('t2 bs estimate & se:', t2_es, t2_se)\n",
    "print('t3 bs estimate & se:', t3_es, t3_se)"
   ]
  },
  {
   "cell_type": "code",
   "execution_count": 23,
   "metadata": {},
   "outputs": [
    {
     "data": {
      "text/html": [
       "<table class=\"simpletable\">\n",
       "<tr>\n",
       "        <td></td>          <th>coef</th>     <th>std err</th>      <th>t</th>      <th>P>|t|</th>  <th>[0.025</th>    <th>0.975]</th>  \n",
       "</tr>\n",
       "<tr>\n",
       "  <th>Intercept</th>    <td>   56.9001</td> <td>    1.800</td> <td>   31.604</td> <td> 0.000</td> <td>   53.360</td> <td>   60.440</td>\n",
       "</tr>\n",
       "<tr>\n",
       "  <th>horsepower</th>   <td>   -0.4662</td> <td>    0.031</td> <td>  -14.978</td> <td> 0.000</td> <td>   -0.527</td> <td>   -0.405</td>\n",
       "</tr>\n",
       "<tr>\n",
       "  <th>horsepower_2</th> <td>    0.0012</td> <td>    0.000</td> <td>   10.080</td> <td> 0.000</td> <td>    0.001</td> <td>    0.001</td>\n",
       "</tr>\n",
       "</table>"
      ],
      "text/plain": [
       "<class 'statsmodels.iolib.table.SimpleTable'>"
      ]
     },
     "execution_count": 23,
     "metadata": {},
     "output_type": "execute_result"
    }
   ],
   "source": [
    "import statsmodels.formula.api as sm\n",
    "\n",
    "ols2 = sm.ols('mpg ~ horsepower + horsepower_2', data=auto).fit()\n",
    "ols2.summary().tables[1]"
   ]
  }
 ],
 "metadata": {
  "kernelspec": {
   "display_name": "Python 3",
   "language": "python",
   "name": "python3"
  },
  "language_info": {
   "codemirror_mode": {
    "name": "ipython",
    "version": 3
   },
   "file_extension": ".py",
   "mimetype": "text/x-python",
   "name": "python",
   "nbconvert_exporter": "python",
   "pygments_lexer": "ipython3",
   "version": "3.7.3"
  }
 },
 "nbformat": 4,
 "nbformat_minor": 2
}
